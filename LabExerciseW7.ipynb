{
 "cells": [
  {
   "cell_type": "code",
   "execution_count": 1,
   "id": "11f658d6",
   "metadata": {},
   "outputs": [],
   "source": [
    "import numpy as np\n",
    "import pandas as pd\n",
    "\n",
    "data = pd.read_csv('winequality-red.csv', delimiter=';')\n",
    "\n",
    "# forget quality column"
   ]
  },
  {
   "cell_type": "code",
   "execution_count": 2,
   "id": "50ad4072",
   "metadata": {},
   "outputs": [
    {
     "data": {
      "text/html": [
       "<div>\n",
       "<style scoped>\n",
       "    .dataframe tbody tr th:only-of-type {\n",
       "        vertical-align: middle;\n",
       "    }\n",
       "\n",
       "    .dataframe tbody tr th {\n",
       "        vertical-align: top;\n",
       "    }\n",
       "\n",
       "    .dataframe thead th {\n",
       "        text-align: right;\n",
       "    }\n",
       "</style>\n",
       "<table border=\"1\" class=\"dataframe\">\n",
       "  <thead>\n",
       "    <tr style=\"text-align: right;\">\n",
       "      <th></th>\n",
       "      <th>fixed acidity</th>\n",
       "      <th>volatile acidity</th>\n",
       "      <th>citric acid</th>\n",
       "      <th>residual sugar</th>\n",
       "      <th>chlorides</th>\n",
       "      <th>free sulfur dioxide</th>\n",
       "      <th>total sulfur dioxide</th>\n",
       "      <th>density</th>\n",
       "      <th>pH</th>\n",
       "      <th>sulphates</th>\n",
       "      <th>alcohol</th>\n",
       "      <th>quality</th>\n",
       "    </tr>\n",
       "  </thead>\n",
       "  <tbody>\n",
       "    <tr>\n",
       "      <th>0</th>\n",
       "      <td>7.4</td>\n",
       "      <td>0.70</td>\n",
       "      <td>0.00</td>\n",
       "      <td>1.9</td>\n",
       "      <td>0.076</td>\n",
       "      <td>11.0</td>\n",
       "      <td>34.0</td>\n",
       "      <td>0.9978</td>\n",
       "      <td>3.51</td>\n",
       "      <td>0.56</td>\n",
       "      <td>9.4</td>\n",
       "      <td>5</td>\n",
       "    </tr>\n",
       "    <tr>\n",
       "      <th>1</th>\n",
       "      <td>7.8</td>\n",
       "      <td>0.88</td>\n",
       "      <td>0.00</td>\n",
       "      <td>2.6</td>\n",
       "      <td>0.098</td>\n",
       "      <td>25.0</td>\n",
       "      <td>67.0</td>\n",
       "      <td>0.9968</td>\n",
       "      <td>3.20</td>\n",
       "      <td>0.68</td>\n",
       "      <td>9.8</td>\n",
       "      <td>5</td>\n",
       "    </tr>\n",
       "    <tr>\n",
       "      <th>2</th>\n",
       "      <td>7.8</td>\n",
       "      <td>0.76</td>\n",
       "      <td>0.04</td>\n",
       "      <td>2.3</td>\n",
       "      <td>0.092</td>\n",
       "      <td>15.0</td>\n",
       "      <td>54.0</td>\n",
       "      <td>0.9970</td>\n",
       "      <td>3.26</td>\n",
       "      <td>0.65</td>\n",
       "      <td>9.8</td>\n",
       "      <td>5</td>\n",
       "    </tr>\n",
       "    <tr>\n",
       "      <th>3</th>\n",
       "      <td>11.2</td>\n",
       "      <td>0.28</td>\n",
       "      <td>0.56</td>\n",
       "      <td>1.9</td>\n",
       "      <td>0.075</td>\n",
       "      <td>17.0</td>\n",
       "      <td>60.0</td>\n",
       "      <td>0.9980</td>\n",
       "      <td>3.16</td>\n",
       "      <td>0.58</td>\n",
       "      <td>9.8</td>\n",
       "      <td>6</td>\n",
       "    </tr>\n",
       "    <tr>\n",
       "      <th>4</th>\n",
       "      <td>7.4</td>\n",
       "      <td>0.70</td>\n",
       "      <td>0.00</td>\n",
       "      <td>1.9</td>\n",
       "      <td>0.076</td>\n",
       "      <td>11.0</td>\n",
       "      <td>34.0</td>\n",
       "      <td>0.9978</td>\n",
       "      <td>3.51</td>\n",
       "      <td>0.56</td>\n",
       "      <td>9.4</td>\n",
       "      <td>5</td>\n",
       "    </tr>\n",
       "  </tbody>\n",
       "</table>\n",
       "</div>"
      ],
      "text/plain": [
       "   fixed acidity  volatile acidity  citric acid  residual sugar  chlorides  \\\n",
       "0            7.4              0.70         0.00             1.9      0.076   \n",
       "1            7.8              0.88         0.00             2.6      0.098   \n",
       "2            7.8              0.76         0.04             2.3      0.092   \n",
       "3           11.2              0.28         0.56             1.9      0.075   \n",
       "4            7.4              0.70         0.00             1.9      0.076   \n",
       "\n",
       "   free sulfur dioxide  total sulfur dioxide  density    pH  sulphates  \\\n",
       "0                 11.0                  34.0   0.9978  3.51       0.56   \n",
       "1                 25.0                  67.0   0.9968  3.20       0.68   \n",
       "2                 15.0                  54.0   0.9970  3.26       0.65   \n",
       "3                 17.0                  60.0   0.9980  3.16       0.58   \n",
       "4                 11.0                  34.0   0.9978  3.51       0.56   \n",
       "\n",
       "   alcohol  quality  \n",
       "0      9.4        5  \n",
       "1      9.8        5  \n",
       "2      9.8        5  \n",
       "3      9.8        6  \n",
       "4      9.4        5  "
      ]
     },
     "execution_count": 2,
     "metadata": {},
     "output_type": "execute_result"
    }
   ],
   "source": [
    "data.head()"
   ]
  },
  {
   "cell_type": "code",
   "execution_count": 3,
   "id": "0282d497",
   "metadata": {},
   "outputs": [],
   "source": [
    "from sklearn import preprocessing\n",
    "\n",
    "quality = data.quality\n",
    "dfNorm = data.drop('quality', 1, inplace=True)\n",
    "\n",
    "dfNorm = preprocessing.normalize(data, axis=1)\n",
    "dfNorm2 = pd.DataFrame(dfNorm, columns = data.columns)\n",
    "\n",
    "# dfNorm = pd.get_dummies(data, columns=['quality'])"
   ]
  },
  {
   "cell_type": "code",
   "execution_count": 4,
   "id": "35ca6017",
   "metadata": {},
   "outputs": [
    {
     "data": {
      "text/html": [
       "<div>\n",
       "<style scoped>\n",
       "    .dataframe tbody tr th:only-of-type {\n",
       "        vertical-align: middle;\n",
       "    }\n",
       "\n",
       "    .dataframe tbody tr th {\n",
       "        vertical-align: top;\n",
       "    }\n",
       "\n",
       "    .dataframe thead th {\n",
       "        text-align: right;\n",
       "    }\n",
       "</style>\n",
       "<table border=\"1\" class=\"dataframe\">\n",
       "  <thead>\n",
       "    <tr style=\"text-align: right;\">\n",
       "      <th></th>\n",
       "      <th>fixed acidity</th>\n",
       "      <th>volatile acidity</th>\n",
       "      <th>citric acid</th>\n",
       "      <th>residual sugar</th>\n",
       "      <th>chlorides</th>\n",
       "      <th>free sulfur dioxide</th>\n",
       "      <th>total sulfur dioxide</th>\n",
       "      <th>density</th>\n",
       "      <th>pH</th>\n",
       "      <th>sulphates</th>\n",
       "      <th>alcohol</th>\n",
       "    </tr>\n",
       "  </thead>\n",
       "  <tbody>\n",
       "    <tr>\n",
       "      <th>0</th>\n",
       "      <td>0.195153</td>\n",
       "      <td>0.018460</td>\n",
       "      <td>0.000000</td>\n",
       "      <td>0.050107</td>\n",
       "      <td>0.002004</td>\n",
       "      <td>0.290092</td>\n",
       "      <td>0.896647</td>\n",
       "      <td>0.026314</td>\n",
       "      <td>0.092566</td>\n",
       "      <td>0.014768</td>\n",
       "      <td>0.247896</td>\n",
       "    </tr>\n",
       "    <tr>\n",
       "      <th>1</th>\n",
       "      <td>0.107241</td>\n",
       "      <td>0.012099</td>\n",
       "      <td>0.000000</td>\n",
       "      <td>0.035747</td>\n",
       "      <td>0.001347</td>\n",
       "      <td>0.343722</td>\n",
       "      <td>0.921175</td>\n",
       "      <td>0.013705</td>\n",
       "      <td>0.043996</td>\n",
       "      <td>0.009349</td>\n",
       "      <td>0.134739</td>\n",
       "    </tr>\n",
       "    <tr>\n",
       "      <th>2</th>\n",
       "      <td>0.135457</td>\n",
       "      <td>0.013198</td>\n",
       "      <td>0.000695</td>\n",
       "      <td>0.039942</td>\n",
       "      <td>0.001598</td>\n",
       "      <td>0.260494</td>\n",
       "      <td>0.937777</td>\n",
       "      <td>0.017314</td>\n",
       "      <td>0.056614</td>\n",
       "      <td>0.011288</td>\n",
       "      <td>0.170189</td>\n",
       "    </tr>\n",
       "    <tr>\n",
       "      <th>3</th>\n",
       "      <td>0.174367</td>\n",
       "      <td>0.004359</td>\n",
       "      <td>0.008718</td>\n",
       "      <td>0.029580</td>\n",
       "      <td>0.001168</td>\n",
       "      <td>0.264664</td>\n",
       "      <td>0.934108</td>\n",
       "      <td>0.015537</td>\n",
       "      <td>0.049196</td>\n",
       "      <td>0.009030</td>\n",
       "      <td>0.152571</td>\n",
       "    </tr>\n",
       "    <tr>\n",
       "      <th>4</th>\n",
       "      <td>0.195153</td>\n",
       "      <td>0.018460</td>\n",
       "      <td>0.000000</td>\n",
       "      <td>0.050107</td>\n",
       "      <td>0.002004</td>\n",
       "      <td>0.290092</td>\n",
       "      <td>0.896647</td>\n",
       "      <td>0.026314</td>\n",
       "      <td>0.092566</td>\n",
       "      <td>0.014768</td>\n",
       "      <td>0.247896</td>\n",
       "    </tr>\n",
       "  </tbody>\n",
       "</table>\n",
       "</div>"
      ],
      "text/plain": [
       "   fixed acidity  volatile acidity  citric acid  residual sugar  chlorides  \\\n",
       "0       0.195153          0.018460     0.000000        0.050107   0.002004   \n",
       "1       0.107241          0.012099     0.000000        0.035747   0.001347   \n",
       "2       0.135457          0.013198     0.000695        0.039942   0.001598   \n",
       "3       0.174367          0.004359     0.008718        0.029580   0.001168   \n",
       "4       0.195153          0.018460     0.000000        0.050107   0.002004   \n",
       "\n",
       "   free sulfur dioxide  total sulfur dioxide   density        pH  sulphates  \\\n",
       "0             0.290092              0.896647  0.026314  0.092566   0.014768   \n",
       "1             0.343722              0.921175  0.013705  0.043996   0.009349   \n",
       "2             0.260494              0.937777  0.017314  0.056614   0.011288   \n",
       "3             0.264664              0.934108  0.015537  0.049196   0.009030   \n",
       "4             0.290092              0.896647  0.026314  0.092566   0.014768   \n",
       "\n",
       "    alcohol  \n",
       "0  0.247896  \n",
       "1  0.134739  \n",
       "2  0.170189  \n",
       "3  0.152571  \n",
       "4  0.247896  "
      ]
     },
     "execution_count": 4,
     "metadata": {},
     "output_type": "execute_result"
    }
   ],
   "source": [
    "dfNorm2.head()"
   ]
  },
  {
   "cell_type": "code",
   "execution_count": 5,
   "id": "8509845c",
   "metadata": {},
   "outputs": [
    {
     "data": {
      "text/plain": [
       "KMeans(n_clusters=3)"
      ]
     },
     "execution_count": 5,
     "metadata": {},
     "output_type": "execute_result"
    }
   ],
   "source": [
    "from sklearn.cluster import KMeans\n",
    "\n",
    "X = dfNorm2.values\n",
    "\n",
    "kmeans = KMeans(n_clusters=3)\n",
    "\n",
    "kmeans.fit(X)"
   ]
  },
  {
   "cell_type": "code",
   "execution_count": 6,
   "id": "96f0f031",
   "metadata": {},
   "outputs": [
    {
     "data": {
      "text/plain": [
       "array([2, 0, 0, ..., 2, 2, 2])"
      ]
     },
     "execution_count": 6,
     "metadata": {},
     "output_type": "execute_result"
    }
   ],
   "source": [
    "kmeans.predict(X)"
   ]
  },
  {
   "cell_type": "code",
   "execution_count": 12,
   "id": "6ad98740",
   "metadata": {},
   "outputs": [
    {
     "data": {
      "text/plain": [
       "<matplotlib.collections.PathCollection at 0x2d9fd8b7d60>"
      ]
     },
     "execution_count": 12,
     "metadata": {},
     "output_type": "execute_result"
    },
    {
     "data": {
      "image/png": "[encoded data removed]",
      "text/plain": [
       "<Figure size 432x288 with 1 Axes>"
      ]
     },
     "metadata": {
      "needs_background": "light"
     },
     "output_type": "display_data"
    }
   ],
   "source": [
    "import matplotlib.pyplot as plt\n",
    "plt.scatter(X[:,0], X[:,1], s=10, c=kmeans.predict(X))"
   ]
  },
  {
   "cell_type": "code",
   "execution_count": 7,
   "id": "3dcb9615",
   "metadata": {},
   "outputs": [
    {
     "data": {
      "text/plain": [
       "MeanShift()"
      ]
     },
     "execution_count": 7,
     "metadata": {},
     "output_type": "execute_result"
    }
   ],
   "source": [
    "from sklearn.cluster import MeanShift\n",
    "\n",
    "ms = MeanShift()\n",
    "\n",
    "ms.fit(X)"
   ]
  },
  {
   "cell_type": "code",
   "execution_count": 8,
   "id": "8c564339",
   "metadata": {},
   "outputs": [
    {
     "data": {
      "text/plain": [
       "array([0, 0, 0, ..., 0, 0, 0], dtype=int64)"
      ]
     },
     "execution_count": 8,
     "metadata": {},
     "output_type": "execute_result"
    }
   ],
   "source": [
    "ms.predict(X)"
   ]
  },
  {
   "cell_type": "code",
   "execution_count": 13,
   "id": "cb31c41a",
   "metadata": {},
   "outputs": [
    {
     "data": {
      "text/plain": [
       "<matplotlib.collections.PathCollection at 0x2d9fd9279a0>"
      ]
     },
     "execution_count": 13,
     "metadata": {},
     "output_type": "execute_result"
    },
    {
     "data": {
      "image/png": "[encoded data removed]",
      "text/plain": [
       "<Figure size 432x288 with 1 Axes>"
      ]
     },
     "metadata": {
      "needs_background": "light"
     },
     "output_type": "display_data"
    }
   ],
   "source": [
    "import matplotlib.pyplot as plt\n",
    "plt.scatter(X[:,0], X[:,1], s=10, c=ms.predict(X))"
   ]
  },
  {
   "cell_type": "code",
   "execution_count": 9,
   "id": "c06881b6",
   "metadata": {},
   "outputs": [
    {
     "data": {
      "text/html": [
       "<div>\n",
       "<style scoped>\n",
       "    .dataframe tbody tr th:only-of-type {\n",
       "        vertical-align: middle;\n",
       "    }\n",
       "\n",
       "    .dataframe tbody tr th {\n",
       "        vertical-align: top;\n",
       "    }\n",
       "\n",
       "    .dataframe thead th {\n",
       "        text-align: right;\n",
       "    }\n",
       "</style>\n",
       "<table border=\"1\" class=\"dataframe\">\n",
       "  <thead>\n",
       "    <tr style=\"text-align: right;\">\n",
       "      <th></th>\n",
       "      <th>0</th>\n",
       "      <th>1</th>\n",
       "      <th>2</th>\n",
       "      <th>3</th>\n",
       "      <th>4</th>\n",
       "      <th>5</th>\n",
       "      <th>6</th>\n",
       "      <th>7</th>\n",
       "      <th>8</th>\n",
       "      <th>9</th>\n",
       "      <th>10</th>\n",
       "    </tr>\n",
       "  </thead>\n",
       "  <tbody>\n",
       "    <tr>\n",
       "      <th>0</th>\n",
       "      <td>-0.062071</td>\n",
       "      <td>-0.029945</td>\n",
       "      <td>-0.003448</td>\n",
       "      <td>-0.029561</td>\n",
       "      <td>0.016089</td>\n",
       "      <td>0.012920</td>\n",
       "      <td>0.000730</td>\n",
       "      <td>-0.001573</td>\n",
       "      <td>-0.001430</td>\n",
       "      <td>-0.000252</td>\n",
       "      <td>0.000659</td>\n",
       "    </tr>\n",
       "    <tr>\n",
       "      <th>1</th>\n",
       "      <td>-0.208146</td>\n",
       "      <td>0.029806</td>\n",
       "      <td>0.002845</td>\n",
       "      <td>0.007431</td>\n",
       "      <td>-0.002603</td>\n",
       "      <td>0.002664</td>\n",
       "      <td>0.004407</td>\n",
       "      <td>0.002738</td>\n",
       "      <td>-0.000378</td>\n",
       "      <td>0.000165</td>\n",
       "      <td>-0.000486</td>\n",
       "    </tr>\n",
       "    <tr>\n",
       "      <th>2</th>\n",
       "      <td>-0.172097</td>\n",
       "      <td>-0.058672</td>\n",
       "      <td>-0.004457</td>\n",
       "      <td>-0.007546</td>\n",
       "      <td>0.003984</td>\n",
       "      <td>0.002773</td>\n",
       "      <td>0.003553</td>\n",
       "      <td>0.001797</td>\n",
       "      <td>-0.000964</td>\n",
       "      <td>0.000165</td>\n",
       "      <td>-0.000370</td>\n",
       "    </tr>\n",
       "    <tr>\n",
       "      <th>3</th>\n",
       "      <td>-0.164567</td>\n",
       "      <td>-0.058459</td>\n",
       "      <td>0.039603</td>\n",
       "      <td>-0.009779</td>\n",
       "      <td>-0.004821</td>\n",
       "      <td>-0.004097</td>\n",
       "      <td>-0.000214</td>\n",
       "      <td>-0.003258</td>\n",
       "      <td>-0.000106</td>\n",
       "      <td>-0.000077</td>\n",
       "      <td>0.000198</td>\n",
       "    </tr>\n",
       "    <tr>\n",
       "      <th>4</th>\n",
       "      <td>-0.062071</td>\n",
       "      <td>-0.029945</td>\n",
       "      <td>-0.003448</td>\n",
       "      <td>-0.029561</td>\n",
       "      <td>0.016089</td>\n",
       "      <td>0.012920</td>\n",
       "      <td>0.000730</td>\n",
       "      <td>-0.001573</td>\n",
       "      <td>-0.001430</td>\n",
       "      <td>-0.000252</td>\n",
       "      <td>0.000659</td>\n",
       "    </tr>\n",
       "  </tbody>\n",
       "</table>\n",
       "</div>"
      ],
      "text/plain": [
       "         0         1         2         3         4         5         6   \\\n",
       "0 -0.062071 -0.029945 -0.003448 -0.029561  0.016089  0.012920  0.000730   \n",
       "1 -0.208146  0.029806  0.002845  0.007431 -0.002603  0.002664  0.004407   \n",
       "2 -0.172097 -0.058672 -0.004457 -0.007546  0.003984  0.002773  0.003553   \n",
       "3 -0.164567 -0.058459  0.039603 -0.009779 -0.004821 -0.004097 -0.000214   \n",
       "4 -0.062071 -0.029945 -0.003448 -0.029561  0.016089  0.012920  0.000730   \n",
       "\n",
       "         7         8         9         10  \n",
       "0 -0.001573 -0.001430 -0.000252  0.000659  \n",
       "1  0.002738 -0.000378  0.000165 -0.000486  \n",
       "2  0.001797 -0.000964  0.000165 -0.000370  \n",
       "3 -0.003258 -0.000106 -0.000077  0.000198  \n",
       "4 -0.001573 -0.001430 -0.000252  0.000659  "
      ]
     },
     "execution_count": 9,
     "metadata": {},
     "output_type": "execute_result"
    }
   ],
   "source": [
    "from sklearn.decomposition import PCA\n",
    "from sklearn.preprocessing import StandardScaler\n",
    "\n",
    "pca = PCA()\n",
    "\n",
    "x_pca = pca.fit_transform(X)\n",
    "x_pca = pd.DataFrame(x_pca)\n",
    "x_pca.head()\n",
    "\n"
   ]
  },
  {
   "cell_type": "code",
   "execution_count": 11,
   "id": "229e2233",
   "metadata": {},
   "outputs": [
    {
     "data": {
      "text/plain": [
       "Text(0, 0.5, 'cumulative explained variance')"
      ]
     },
     "execution_count": 11,
     "metadata": {},
     "output_type": "execute_result"
    },
    {
     "data": {
      "image/png": "[encoded data removed]",
      "text/plain": [
       "<Figure size 432x288 with 1 Axes>"
      ]
     },
     "metadata": {
      "needs_background": "light"
     },
     "output_type": "display_data"
    }
   ],
   "source": [
    "import matplotlib.pyplot as plt\n",
    "\n",
    "np.cumsum(pca.explained_variance_ratio_)\n",
    "plt.plot([1,2,3,4,5,6,7,8,9,10,11], np.cumsum(pca.explained_variance_ratio_))\n",
    "plt.xlabel('number of components')\n",
    "plt.ylabel('cumulative explained variance')"
   ]
  },
  {
   "cell_type": "code",
   "execution_count": null,
   "id": "046ced7b",
   "metadata": {},
   "outputs": [],
   "source": []
  }
 ],
 "metadata": {
  "kernelspec": {
   "display_name": "Python 3",
   "language": "python",
   "name": "python3"
  },
  "language_info": {
   "codemirror_mode": {
    "name": "ipython",
    "version": 3
   },
   "file_extension": ".py",
   "mimetype": "text/x-python",
   "name": "python",
   "nbconvert_exporter": "python",
   "pygments_lexer": "ipython3",
   "version": "3.8.8"
  }
 },
 "nbformat": 4,
 "nbformat_minor": 5
}
